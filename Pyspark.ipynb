{
  "nbformat": 4,
  "nbformat_minor": 0,
  "metadata": {
    "colab": {
      "provenance": []
    },
    "kernelspec": {
      "name": "python3",
      "display_name": "Python 3"
    },
    "language_info": {
      "name": "python"
    }
  },
  "cells": [
    {
      "cell_type": "code",
      "execution_count": 24,
      "metadata": {
        "id": "xQTGVGQ_W7fA"
      },
      "outputs": [],
      "source": [
        " # Instalar o java\n",
        "!apt-get install openjdk-11-jdk-headless -qq > /dev/null"
      ]
    },
    {
      "cell_type": "code",
      "source": [
        "# Baixar a versao do spark\n",
        "!wget -q https://dlcdn.apache.org/spark/spark-3.5.0/spark-3.5.0-bin-hadoop3.tgz"
      ],
      "metadata": {
        "id": "7Q6FM51MqOrE"
      },
      "execution_count": 6,
      "outputs": []
    },
    {
      "cell_type": "code",
      "source": [
        "!apt-get install oracle-java11-installer"
      ],
      "metadata": {
        "colab": {
          "base_uri": "https://localhost:8080/"
        },
        "id": "IAvlUxLUwksM",
        "outputId": "54252652-88ca-498c-d848-4ca5544cd927"
      },
      "execution_count": 23,
      "outputs": [
        {
          "output_type": "stream",
          "name": "stdout",
          "text": [
            "Reading package lists... Done\n",
            "Building dependency tree... Done\n",
            "Reading state information... Done\n",
            "Package oracle-java11-installer is not available, but is referred to by another package.\n",
            "This may mean that the package is missing, has been obsoleted, or\n",
            "is only available from another source\n",
            "\n",
            "E: Package 'oracle-java11-installer' has no installation candidate\n"
          ]
        }
      ]
    },
    {
      "cell_type": "code",
      "source": [
        "# deszipar\n",
        "!tar xf /content/spark-3.5.0-bin-hadoop3.tgz"
      ],
      "metadata": {
        "id": "iC_qYfnnq76S"
      },
      "execution_count": 7,
      "outputs": []
    },
    {
      "cell_type": "code",
      "source": [
        "# criar variaveis de ambiente\n",
        "import os\n",
        "os.environ[\"JAVA_HOME\"] = \"/usr/lib/jvm/java-11-openjdk-amd64\"\n",
        "os.environ[\"SPARK_HOME\"] = \"/content/spark-3.5.0-bin-hadoop3\""
      ],
      "metadata": {
        "id": "1F_I7SoqsU9T"
      },
      "execution_count": 28,
      "outputs": []
    },
    {
      "cell_type": "code",
      "source": [
        "# instalar a lib findspark para localizar o spark no sistema\n",
        "!pip install findspark"
      ],
      "metadata": {
        "colab": {
          "base_uri": "https://localhost:8080/"
        },
        "id": "xDcx6KvystRV",
        "outputId": "db561f84-b227-40bb-9a43-1712b996ddfa"
      },
      "execution_count": 9,
      "outputs": [
        {
          "output_type": "stream",
          "name": "stdout",
          "text": [
            "Collecting findspark\n",
            "  Downloading findspark-2.0.1-py2.py3-none-any.whl (4.4 kB)\n",
            "Installing collected packages: findspark\n",
            "Successfully installed findspark-2.0.1\n"
          ]
        }
      ]
    },
    {
      "cell_type": "code",
      "source": [
        "import findspark\n",
        "findspark.init()"
      ],
      "metadata": {
        "id": "GrKC1V-Ds2gF"
      },
      "execution_count": 26,
      "outputs": []
    },
    {
      "cell_type": "code",
      "source": [
        "# criar spark session\n",
        "from pyspark.sql import SparkSession\n",
        "spark = SparkSession.builder\\\n",
        "        .master('local')\\\n",
        "        .appName('sparkcolab')\\\n",
        "        .getOrCreate()"
      ],
      "metadata": {
        "id": "u9kp3hBfuZcW"
      },
      "execution_count": 29,
      "outputs": []
    },
    {
      "cell_type": "code",
      "source": [
        "from google.colab import files\n",
        "arquivo = files.upload()"
      ],
      "metadata": {
        "colab": {
          "base_uri": "https://localhost:8080/",
          "height": 73
        },
        "id": "FufTP_PYv_wO",
        "outputId": "fc949dd5-5e35-49d4-dd5a-9703a71f8785"
      },
      "execution_count": 75,
      "outputs": [
        {
          "output_type": "display_data",
          "data": {
            "text/plain": [
              "<IPython.core.display.HTML object>"
            ],
            "text/html": [
              "\n",
              "     <input type=\"file\" id=\"files-c907b0a4-e962-4682-9555-1b7d826f9b7c\" name=\"files[]\" multiple disabled\n",
              "        style=\"border:none\" />\n",
              "     <output id=\"result-c907b0a4-e962-4682-9555-1b7d826f9b7c\">\n",
              "      Upload widget is only available when the cell has been executed in the\n",
              "      current browser session. Please rerun this cell to enable.\n",
              "      </output>\n",
              "      <script>// Copyright 2017 Google LLC\n",
              "//\n",
              "// Licensed under the Apache License, Version 2.0 (the \"License\");\n",
              "// you may not use this file except in compliance with the License.\n",
              "// You may obtain a copy of the License at\n",
              "//\n",
              "//      http://www.apache.org/licenses/LICENSE-2.0\n",
              "//\n",
              "// Unless required by applicable law or agreed to in writing, software\n",
              "// distributed under the License is distributed on an \"AS IS\" BASIS,\n",
              "// WITHOUT WARRANTIES OR CONDITIONS OF ANY KIND, either express or implied.\n",
              "// See the License for the specific language governing permissions and\n",
              "// limitations under the License.\n",
              "\n",
              "/**\n",
              " * @fileoverview Helpers for google.colab Python module.\n",
              " */\n",
              "(function(scope) {\n",
              "function span(text, styleAttributes = {}) {\n",
              "  const element = document.createElement('span');\n",
              "  element.textContent = text;\n",
              "  for (const key of Object.keys(styleAttributes)) {\n",
              "    element.style[key] = styleAttributes[key];\n",
              "  }\n",
              "  return element;\n",
              "}\n",
              "\n",
              "// Max number of bytes which will be uploaded at a time.\n",
              "const MAX_PAYLOAD_SIZE = 100 * 1024;\n",
              "\n",
              "function _uploadFiles(inputId, outputId) {\n",
              "  const steps = uploadFilesStep(inputId, outputId);\n",
              "  const outputElement = document.getElementById(outputId);\n",
              "  // Cache steps on the outputElement to make it available for the next call\n",
              "  // to uploadFilesContinue from Python.\n",
              "  outputElement.steps = steps;\n",
              "\n",
              "  return _uploadFilesContinue(outputId);\n",
              "}\n",
              "\n",
              "// This is roughly an async generator (not supported in the browser yet),\n",
              "// where there are multiple asynchronous steps and the Python side is going\n",
              "// to poll for completion of each step.\n",
              "// This uses a Promise to block the python side on completion of each step,\n",
              "// then passes the result of the previous step as the input to the next step.\n",
              "function _uploadFilesContinue(outputId) {\n",
              "  const outputElement = document.getElementById(outputId);\n",
              "  const steps = outputElement.steps;\n",
              "\n",
              "  const next = steps.next(outputElement.lastPromiseValue);\n",
              "  return Promise.resolve(next.value.promise).then((value) => {\n",
              "    // Cache the last promise value to make it available to the next\n",
              "    // step of the generator.\n",
              "    outputElement.lastPromiseValue = value;\n",
              "    return next.value.response;\n",
              "  });\n",
              "}\n",
              "\n",
              "/**\n",
              " * Generator function which is called between each async step of the upload\n",
              " * process.\n",
              " * @param {string} inputId Element ID of the input file picker element.\n",
              " * @param {string} outputId Element ID of the output display.\n",
              " * @return {!Iterable<!Object>} Iterable of next steps.\n",
              " */\n",
              "function* uploadFilesStep(inputId, outputId) {\n",
              "  const inputElement = document.getElementById(inputId);\n",
              "  inputElement.disabled = false;\n",
              "\n",
              "  const outputElement = document.getElementById(outputId);\n",
              "  outputElement.innerHTML = '';\n",
              "\n",
              "  const pickedPromise = new Promise((resolve) => {\n",
              "    inputElement.addEventListener('change', (e) => {\n",
              "      resolve(e.target.files);\n",
              "    });\n",
              "  });\n",
              "\n",
              "  const cancel = document.createElement('button');\n",
              "  inputElement.parentElement.appendChild(cancel);\n",
              "  cancel.textContent = 'Cancel upload';\n",
              "  const cancelPromise = new Promise((resolve) => {\n",
              "    cancel.onclick = () => {\n",
              "      resolve(null);\n",
              "    };\n",
              "  });\n",
              "\n",
              "  // Wait for the user to pick the files.\n",
              "  const files = yield {\n",
              "    promise: Promise.race([pickedPromise, cancelPromise]),\n",
              "    response: {\n",
              "      action: 'starting',\n",
              "    }\n",
              "  };\n",
              "\n",
              "  cancel.remove();\n",
              "\n",
              "  // Disable the input element since further picks are not allowed.\n",
              "  inputElement.disabled = true;\n",
              "\n",
              "  if (!files) {\n",
              "    return {\n",
              "      response: {\n",
              "        action: 'complete',\n",
              "      }\n",
              "    };\n",
              "  }\n",
              "\n",
              "  for (const file of files) {\n",
              "    const li = document.createElement('li');\n",
              "    li.append(span(file.name, {fontWeight: 'bold'}));\n",
              "    li.append(span(\n",
              "        `(${file.type || 'n/a'}) - ${file.size} bytes, ` +\n",
              "        `last modified: ${\n",
              "            file.lastModifiedDate ? file.lastModifiedDate.toLocaleDateString() :\n",
              "                                    'n/a'} - `));\n",
              "    const percent = span('0% done');\n",
              "    li.appendChild(percent);\n",
              "\n",
              "    outputElement.appendChild(li);\n",
              "\n",
              "    const fileDataPromise = new Promise((resolve) => {\n",
              "      const reader = new FileReader();\n",
              "      reader.onload = (e) => {\n",
              "        resolve(e.target.result);\n",
              "      };\n",
              "      reader.readAsArrayBuffer(file);\n",
              "    });\n",
              "    // Wait for the data to be ready.\n",
              "    let fileData = yield {\n",
              "      promise: fileDataPromise,\n",
              "      response: {\n",
              "        action: 'continue',\n",
              "      }\n",
              "    };\n",
              "\n",
              "    // Use a chunked sending to avoid message size limits. See b/62115660.\n",
              "    let position = 0;\n",
              "    do {\n",
              "      const length = Math.min(fileData.byteLength - position, MAX_PAYLOAD_SIZE);\n",
              "      const chunk = new Uint8Array(fileData, position, length);\n",
              "      position += length;\n",
              "\n",
              "      const base64 = btoa(String.fromCharCode.apply(null, chunk));\n",
              "      yield {\n",
              "        response: {\n",
              "          action: 'append',\n",
              "          file: file.name,\n",
              "          data: base64,\n",
              "        },\n",
              "      };\n",
              "\n",
              "      let percentDone = fileData.byteLength === 0 ?\n",
              "          100 :\n",
              "          Math.round((position / fileData.byteLength) * 100);\n",
              "      percent.textContent = `${percentDone}% done`;\n",
              "\n",
              "    } while (position < fileData.byteLength);\n",
              "  }\n",
              "\n",
              "  // All done.\n",
              "  yield {\n",
              "    response: {\n",
              "      action: 'complete',\n",
              "    }\n",
              "  };\n",
              "}\n",
              "\n",
              "scope.google = scope.google || {};\n",
              "scope.google.colab = scope.google.colab || {};\n",
              "scope.google.colab._files = {\n",
              "  _uploadFiles,\n",
              "  _uploadFilesContinue,\n",
              "};\n",
              "})(self);\n",
              "</script> "
            ]
          },
          "metadata": {}
        },
        {
          "output_type": "stream",
          "name": "stdout",
          "text": [
            "Saving reviews-2.csv to reviews-2.csv\n"
          ]
        }
      ]
    },
    {
      "cell_type": "code",
      "source": [
        "# criar dataframe\n",
        "# inferSchema serve para fazer inferencia sobre os tipos de dados\n",
        "df = spark.read.csv('movies.csv', header=True, inferSchema=True)"
      ],
      "metadata": {
        "id": "wTqIckb13sRA"
      },
      "execution_count": 32,
      "outputs": []
    },
    {
      "cell_type": "code",
      "source": [
        "df.printSchema()"
      ],
      "metadata": {
        "colab": {
          "base_uri": "https://localhost:8080/"
        },
        "id": "TqwYY3cM-N4J",
        "outputId": "9f3d634d-c05c-401b-cc90-dc7adac230b9"
      },
      "execution_count": 34,
      "outputs": [
        {
          "output_type": "stream",
          "name": "stdout",
          "text": [
            "root\n",
            " |-- Film: string (nullable = true)\n",
            " |-- Genre: string (nullable = true)\n",
            " |-- Lead Studio: string (nullable = true)\n",
            " |-- Audience score %: integer (nullable = true)\n",
            " |-- Profitability: double (nullable = true)\n",
            " |-- Rotten Tomatoes %: integer (nullable = true)\n",
            " |-- Worldwide Gross: string (nullable = true)\n",
            " |-- Year: integer (nullable = true)\n",
            "\n"
          ]
        }
      ]
    },
    {
      "cell_type": "code",
      "source": [
        "df.show()"
      ],
      "metadata": {
        "colab": {
          "base_uri": "https://localhost:8080/"
        },
        "id": "aHBt7gun_CY5",
        "outputId": "424a8bb9-89b3-4cd5-9fb4-1526acc77790"
      },
      "execution_count": 36,
      "outputs": [
        {
          "output_type": "stream",
          "name": "stdout",
          "text": [
            "+--------------------+---------+--------------------+----------------+-------------+-----------------+---------------+----+\n",
            "|                Film|    Genre|         Lead Studio|Audience score %|Profitability|Rotten Tomatoes %|Worldwide Gross|Year|\n",
            "+--------------------+---------+--------------------+----------------+-------------+-----------------+---------------+----+\n",
            "|Zack and Miri Mak...|  Romance|The Weinstein Com...|              70|  1.747541667|               64|        $41.94 |2008|\n",
            "|     Youth in Revolt|   Comedy|The Weinstein Com...|              52|         1.09|               68|        $19.62 |2010|\n",
            "|You Will Meet a T...|   Comedy|         Independent|              35|  1.211818182|               43|        $26.66 |2010|\n",
            "|        When in Rome|   Comedy|              Disney|              44|          0.0|               15|        $43.04 |2010|\n",
            "|What Happens in V...|   Comedy|                 Fox|              72|  6.267647029|               28|       $219.37 |2008|\n",
            "| Water For Elephants|    Drama|    20th Century Fox|              72|  3.081421053|               60|       $117.09 |2011|\n",
            "|              WALL-E|Animation|              Disney|              89|  2.896019067|               96|       $521.28 |2008|\n",
            "|            Waitress|  Romance|         Independent|              67|   11.0897415|               89|        $22.18 |2007|\n",
            "| Waiting For Forever|  Romance|         Independent|              53|        0.005|                6|         $0.03 |2011|\n",
            "|     Valentine's Day|   Comedy|        Warner Bros.|              54|  4.184038462|               17|       $217.57 |2010|\n",
            "|Tyler Perry's Why...|  Romance|         Independent|              47|    3.7241924|               46|        $55.86 |2007|\n",
            "|Twilight: Breakin...|  Romance|         Independent|              68|  6.383363636|               26|       $702.17 |2011|\n",
            "|            Twilight|  Romance|              Summit|              82|  10.18002703|               49|       $376.66 |2008|\n",
            "|      The Ugly Truth|   Comedy|         Independent|              68|  5.402631579|               14|       $205.30 |2009|\n",
            "|The Twilight Saga...|    Drama|              Summit|              78|      14.1964|               27|       $709.82 |2009|\n",
            "|The Time Traveler...|    Drama|           Paramount|              65|  2.598205128|               38|       $101.33 |2009|\n",
            "|        The Proposal|   Comedy|              Disney|              74|       7.8675|               43|       $314.70 |2009|\n",
            "|The Invention of ...|   Comedy|        Warner Bros.|              47|  1.751351351|               56|        $32.40 |2009|\n",
            "|  The Heartbreak Kid|   Comedy|           Paramount|              41|  2.129444167|               30|       $127.77 |2007|\n",
            "|         The Duchess|    Drama|           Paramount|              68|  3.207850222|               60|        $43.31 |2008|\n",
            "+--------------------+---------+--------------------+----------------+-------------+-----------------+---------------+----+\n",
            "only showing top 20 rows\n",
            "\n"
          ]
        }
      ]
    },
    {
      "cell_type": "markdown",
      "source": [],
      "metadata": {
        "id": "hT385BpFFw__"
      }
    },
    {
      "cell_type": "code",
      "source": [],
      "metadata": {
        "id": "8JD1JuFmFwX1"
      },
      "execution_count": null,
      "outputs": []
    },
    {
      "cell_type": "code",
      "source": [
        "# selecionar colunas\n",
        "df_movie = df.select('Film', 'Audience score %', 'Genre', 'Year', 'Lead Studio')\n"
      ],
      "metadata": {
        "id": "2_oXk3Y7_PEp"
      },
      "execution_count": 40,
      "outputs": []
    },
    {
      "cell_type": "code",
      "source": [
        "df_movie.show()"
      ],
      "metadata": {
        "colab": {
          "base_uri": "https://localhost:8080/"
        },
        "id": "6Gc24PBg_zoL",
        "outputId": "ee7bc81e-c58e-4dc8-99fc-b53979f91b36"
      },
      "execution_count": 41,
      "outputs": [
        {
          "output_type": "stream",
          "name": "stdout",
          "text": [
            "+--------------------+----------------+---------+----+--------------------+\n",
            "|                Film|Audience score %|    Genre|Year|         Lead Studio|\n",
            "+--------------------+----------------+---------+----+--------------------+\n",
            "|Zack and Miri Mak...|              70|  Romance|2008|The Weinstein Com...|\n",
            "|     Youth in Revolt|              52|   Comedy|2010|The Weinstein Com...|\n",
            "|You Will Meet a T...|              35|   Comedy|2010|         Independent|\n",
            "|        When in Rome|              44|   Comedy|2010|              Disney|\n",
            "|What Happens in V...|              72|   Comedy|2008|                 Fox|\n",
            "| Water For Elephants|              72|    Drama|2011|    20th Century Fox|\n",
            "|              WALL-E|              89|Animation|2008|              Disney|\n",
            "|            Waitress|              67|  Romance|2007|         Independent|\n",
            "| Waiting For Forever|              53|  Romance|2011|         Independent|\n",
            "|     Valentine's Day|              54|   Comedy|2010|        Warner Bros.|\n",
            "|Tyler Perry's Why...|              47|  Romance|2007|         Independent|\n",
            "|Twilight: Breakin...|              68|  Romance|2011|         Independent|\n",
            "|            Twilight|              82|  Romance|2008|              Summit|\n",
            "|      The Ugly Truth|              68|   Comedy|2009|         Independent|\n",
            "|The Twilight Saga...|              78|    Drama|2009|              Summit|\n",
            "|The Time Traveler...|              65|    Drama|2009|           Paramount|\n",
            "|        The Proposal|              74|   Comedy|2009|              Disney|\n",
            "|The Invention of ...|              47|   Comedy|2009|        Warner Bros.|\n",
            "|  The Heartbreak Kid|              41|   Comedy|2007|           Paramount|\n",
            "|         The Duchess|              68|    Drama|2008|           Paramount|\n",
            "+--------------------+----------------+---------+----+--------------------+\n",
            "only showing top 20 rows\n",
            "\n"
          ]
        }
      ]
    },
    {
      "cell_type": "code",
      "source": [
        "# mudar tipo das colunas\n",
        "df_score = df_movie.withColumn('score', df_movie['Audience score %'].cast('int')).drop('Audience score %')\n",
        "df_score.show()"
      ],
      "metadata": {
        "colab": {
          "base_uri": "https://localhost:8080/"
        },
        "id": "iIDfZhD9Fn5T",
        "outputId": "388818c6-f840-45fd-d282-0ebca9ea5ed8"
      },
      "execution_count": 49,
      "outputs": [
        {
          "output_type": "stream",
          "name": "stdout",
          "text": [
            "+--------------------+---------+----+--------------------+-----+\n",
            "|                Film|    Genre|Year|         Lead Studio|score|\n",
            "+--------------------+---------+----+--------------------+-----+\n",
            "|Zack and Miri Mak...|  Romance|2008|The Weinstein Com...|   70|\n",
            "|     Youth in Revolt|   Comedy|2010|The Weinstein Com...|   52|\n",
            "|You Will Meet a T...|   Comedy|2010|         Independent|   35|\n",
            "|        When in Rome|   Comedy|2010|              Disney|   44|\n",
            "|What Happens in V...|   Comedy|2008|                 Fox|   72|\n",
            "| Water For Elephants|    Drama|2011|    20th Century Fox|   72|\n",
            "|              WALL-E|Animation|2008|              Disney|   89|\n",
            "|            Waitress|  Romance|2007|         Independent|   67|\n",
            "| Waiting For Forever|  Romance|2011|         Independent|   53|\n",
            "|     Valentine's Day|   Comedy|2010|        Warner Bros.|   54|\n",
            "|Tyler Perry's Why...|  Romance|2007|         Independent|   47|\n",
            "|Twilight: Breakin...|  Romance|2011|         Independent|   68|\n",
            "|            Twilight|  Romance|2008|              Summit|   82|\n",
            "|      The Ugly Truth|   Comedy|2009|         Independent|   68|\n",
            "|The Twilight Saga...|    Drama|2009|              Summit|   78|\n",
            "|The Time Traveler...|    Drama|2009|           Paramount|   65|\n",
            "|        The Proposal|   Comedy|2009|              Disney|   74|\n",
            "|The Invention of ...|   Comedy|2009|        Warner Bros.|   47|\n",
            "|  The Heartbreak Kid|   Comedy|2007|           Paramount|   41|\n",
            "|         The Duchess|    Drama|2008|           Paramount|   68|\n",
            "+--------------------+---------+----+--------------------+-----+\n",
            "only showing top 20 rows\n",
            "\n"
          ]
        }
      ]
    },
    {
      "cell_type": "code",
      "source": [
        "# filtro\n",
        "df_score.filter(df_score.score > 60).show()"
      ],
      "metadata": {
        "colab": {
          "base_uri": "https://localhost:8080/"
        },
        "id": "gKERRuiWGRB-",
        "outputId": "b30ff180-893f-4e41-9c69-48eb7b43a437"
      },
      "execution_count": 52,
      "outputs": [
        {
          "output_type": "stream",
          "name": "stdout",
          "text": [
            "+--------------------+---------+----+--------------------+-----+\n",
            "|                Film|    Genre|Year|         Lead Studio|score|\n",
            "+--------------------+---------+----+--------------------+-----+\n",
            "|Zack and Miri Mak...|  Romance|2008|The Weinstein Com...|   70|\n",
            "|What Happens in V...|   Comedy|2008|                 Fox|   72|\n",
            "| Water For Elephants|    Drama|2011|    20th Century Fox|   72|\n",
            "|              WALL-E|Animation|2008|              Disney|   89|\n",
            "|            Waitress|  Romance|2007|         Independent|   67|\n",
            "|Twilight: Breakin...|  Romance|2011|         Independent|   68|\n",
            "|            Twilight|  Romance|2008|              Summit|   82|\n",
            "|      The Ugly Truth|   Comedy|2009|         Independent|   68|\n",
            "|The Twilight Saga...|    Drama|2009|              Summit|   78|\n",
            "|The Time Traveler...|    Drama|2009|           Paramount|   65|\n",
            "|        The Proposal|   Comedy|2009|              Disney|   74|\n",
            "|         The Duchess|    Drama|2008|           Paramount|   68|\n",
            "|The Curious Case ...|  Fantasy|2008|        Warner Bros.|   81|\n",
            "|             Tangled|Animation|2010|              Disney|   88|\n",
            "|    Sex and the City|   Comedy|2008|        Warner Bros.|   81|\n",
            "|         Remember Me|    Drama|2010|              Summit|   70|\n",
            "|Rachel Getting Ma...|    Drama|2008|         Independent|   61|\n",
            "|            Penelope|   Comedy|2008|              Summit|   74|\n",
            "|     P.S. I Love You|  Romance|2007|         Independent|   82|\n",
            "|   Not Easily Broken|    Drama|2009|         Independent|   66|\n",
            "+--------------------+---------+----+--------------------+-----+\n",
            "only showing top 20 rows\n",
            "\n"
          ]
        }
      ]
    },
    {
      "cell_type": "code",
      "source": [
        "# pegar o valor maximo de score\n",
        "from pyspark.sql.functions import max\n",
        "df_max = df_score.agg(max('score').alias('max_score')).show()"
      ],
      "metadata": {
        "colab": {
          "base_uri": "https://localhost:8080/"
        },
        "id": "xocFUtPkHKmt",
        "outputId": "d9d55729-fbb6-4571-d263-dc17037738cf"
      },
      "execution_count": 54,
      "outputs": [
        {
          "output_type": "stream",
          "name": "stdout",
          "text": [
            "+---------+\n",
            "|max_score|\n",
            "+---------+\n",
            "|       89|\n",
            "+---------+\n",
            "\n"
          ]
        }
      ]
    },
    {
      "cell_type": "code",
      "source": [
        "df_max_score = df_score.filter(df_score.score == 89)\n",
        "df_max_score.show()"
      ],
      "metadata": {
        "colab": {
          "base_uri": "https://localhost:8080/"
        },
        "id": "d2kaUsDdIF3-",
        "outputId": "b9e4f74c-2d2c-4577-ccc7-db03a9ce65a2"
      },
      "execution_count": 56,
      "outputs": [
        {
          "output_type": "stream",
          "name": "stdout",
          "text": [
            "+------------------+---------+----+-----------+-----+\n",
            "|              Film|    Genre|Year|Lead Studio|score|\n",
            "+------------------+---------+----+-----------+-----+\n",
            "|            WALL-E|Animation|2008|     Disney|   89|\n",
            "|A Dangerous Method|    Drama|2011|Independent|   89|\n",
            "+------------------+---------+----+-----------+-----+\n",
            "\n"
          ]
        }
      ]
    },
    {
      "cell_type": "code",
      "source": [
        "# contar studio\n",
        "from pyspark.sql.functions import count, col, asc, desc\n",
        "df_sum = df_score.groupBy('Lead Studio').count()\n",
        "df_sum.show()"
      ],
      "metadata": {
        "colab": {
          "base_uri": "https://localhost:8080/"
        },
        "id": "XwMjm2jKIvCG",
        "outputId": "6217108e-95f4-44f1-a564-2b0bd2549291"
      },
      "execution_count": 57,
      "outputs": [
        {
          "output_type": "stream",
          "name": "stdout",
          "text": [
            "+--------------------+-----+\n",
            "|         Lead Studio|count|\n",
            "+--------------------+-----+\n",
            "|                Sony|    4|\n",
            "|The Weinstein Com...|    3|\n",
            "|           Paramount|    4|\n",
            "|           Lionsgate|    2|\n",
            "|              Summit|    5|\n",
            "|            New Line|    1|\n",
            "|              Disney|    8|\n",
            "|        Warner Bros.|   14|\n",
            "|           Universal|    8|\n",
            "|    20th Century Fox|    2|\n",
            "|                 Fox|    6|\n",
            "|                 CBS|    1|\n",
            "|         Independent|   19|\n",
            "+--------------------+-----+\n",
            "\n"
          ]
        }
      ]
    },
    {
      "cell_type": "code",
      "source": [
        "# ordenar contagem\n",
        "df_sum.orderBy(col('count').desc()).show()"
      ],
      "metadata": {
        "colab": {
          "base_uri": "https://localhost:8080/"
        },
        "id": "bhBzdcnCJRyk",
        "outputId": "1ca94706-60e5-45e6-fd9f-f3c12b518f72"
      },
      "execution_count": 58,
      "outputs": [
        {
          "output_type": "stream",
          "name": "stdout",
          "text": [
            "+--------------------+-----+\n",
            "|         Lead Studio|count|\n",
            "+--------------------+-----+\n",
            "|         Independent|   19|\n",
            "|        Warner Bros.|   14|\n",
            "|              Disney|    8|\n",
            "|           Universal|    8|\n",
            "|                 Fox|    6|\n",
            "|              Summit|    5|\n",
            "|                Sony|    4|\n",
            "|           Paramount|    4|\n",
            "|The Weinstein Com...|    3|\n",
            "|           Lionsgate|    2|\n",
            "|    20th Century Fox|    2|\n",
            "|            New Line|    1|\n",
            "|                 CBS|    1|\n",
            "+--------------------+-----+\n",
            "\n"
          ]
        }
      ]
    },
    {
      "cell_type": "code",
      "source": [
        "df_sum.orderBy(col('count').asc()).show()"
      ],
      "metadata": {
        "colab": {
          "base_uri": "https://localhost:8080/"
        },
        "id": "t2ddyN_uJiss",
        "outputId": "cdb157f5-4ba0-48df-f336-b1c5e5fdb574"
      },
      "execution_count": 59,
      "outputs": [
        {
          "output_type": "stream",
          "name": "stdout",
          "text": [
            "+--------------------+-----+\n",
            "|         Lead Studio|count|\n",
            "+--------------------+-----+\n",
            "|            New Line|    1|\n",
            "|                 CBS|    1|\n",
            "|           Lionsgate|    2|\n",
            "|    20th Century Fox|    2|\n",
            "|The Weinstein Com...|    3|\n",
            "|                Sony|    4|\n",
            "|           Paramount|    4|\n",
            "|              Summit|    5|\n",
            "|                 Fox|    6|\n",
            "|              Disney|    8|\n",
            "|           Universal|    8|\n",
            "|        Warner Bros.|   14|\n",
            "|         Independent|   19|\n",
            "+--------------------+-----+\n",
            "\n"
          ]
        }
      ]
    },
    {
      "cell_type": "code",
      "source": [
        "# in\n",
        "# filtrar os filmes que seja dos studios Universal', 'Disney' ou 'Warner Bros'\n",
        "df_score.select('Lead Studio', 'Film', 'score').filter(df_score['Lead Studio'].isin('Universal', 'Disney', 'Warner Bros.')).show()"
      ],
      "metadata": {
        "colab": {
          "base_uri": "https://localhost:8080/"
        },
        "id": "hetU9S5LJmdV",
        "outputId": "12344ca2-cb96-464c-a04b-da58cc0156dc"
      },
      "execution_count": 65,
      "outputs": [
        {
          "output_type": "stream",
          "name": "stdout",
          "text": [
            "+------------+--------------------+-----+\n",
            "| Lead Studio|                Film|score|\n",
            "+------------+--------------------+-----+\n",
            "|      Disney|        When in Rome|   44|\n",
            "|      Disney|              WALL-E|   89|\n",
            "|Warner Bros.|     Valentine's Day|   54|\n",
            "|      Disney|        The Proposal|   74|\n",
            "|Warner Bros.|The Invention of ...|   47|\n",
            "|Warner Bros.|The Curious Case ...|   81|\n",
            "|      Disney|             Tangled|   88|\n",
            "|Warner Bros.|Sex and the City Two|   49|\n",
            "|Warner Bros.|  Sex and the City 2|   49|\n",
            "|Warner Bros.|    Sex and the City|   81|\n",
            "|Warner Bros.|     No Reservations|   64|\n",
            "|Warner Bros.|      New Year's Eve|   48|\n",
            "|Warner Bros.|    Music and Lyrics|   70|\n",
            "|   Universal|          Mamma Mia!|   76|\n",
            "|   Universal|          Mamma Mia!|   76|\n",
            "|   Universal|        Love Happens|   40|\n",
            "|Warner Bros.|      License to Wed|   55|\n",
            "|   Universal|           Leap Year|   49|\n",
            "|   Universal|          Knocked Up|   83|\n",
            "|   Universal|           Jane Eyre|   77|\n",
            "+------------+--------------------+-----+\n",
            "only showing top 20 rows\n",
            "\n"
          ]
        }
      ]
    },
    {
      "cell_type": "code",
      "source": [
        "# not in\n",
        "df_score.select('Lead Studio', 'Film', 'score').filter(~df_score['Lead Studio'].isin('Universal', 'Disney', 'Warner Bros.')).show()"
      ],
      "metadata": {
        "colab": {
          "base_uri": "https://localhost:8080/"
        },
        "id": "BIcIlA6aKGx_",
        "outputId": "b82ca7be-6ae7-446f-828a-3bf4c03df074"
      },
      "execution_count": 66,
      "outputs": [
        {
          "output_type": "stream",
          "name": "stdout",
          "text": [
            "+--------------------+--------------------+-----+\n",
            "|         Lead Studio|                Film|score|\n",
            "+--------------------+--------------------+-----+\n",
            "|The Weinstein Com...|Zack and Miri Mak...|   70|\n",
            "|The Weinstein Com...|     Youth in Revolt|   52|\n",
            "|         Independent|You Will Meet a T...|   35|\n",
            "|                 Fox|What Happens in V...|   72|\n",
            "|    20th Century Fox| Water For Elephants|   72|\n",
            "|         Independent|            Waitress|   67|\n",
            "|         Independent| Waiting For Forever|   53|\n",
            "|         Independent|Tyler Perry's Why...|   47|\n",
            "|         Independent|Twilight: Breakin...|   68|\n",
            "|              Summit|            Twilight|   82|\n",
            "|         Independent|      The Ugly Truth|   68|\n",
            "|              Summit|The Twilight Saga...|   78|\n",
            "|           Paramount|The Time Traveler...|   65|\n",
            "|           Paramount|  The Heartbreak Kid|   41|\n",
            "|           Paramount|         The Duchess|   68|\n",
            "|                 CBS|    The Back-up Plan|   47|\n",
            "|         Independent|  Something Borrowed|   48|\n",
            "|           Paramount|She's Out of My L...|   60|\n",
            "|              Summit|         Remember Me|   70|\n",
            "|         Independent|Rachel Getting Ma...|   61|\n",
            "+--------------------+--------------------+-----+\n",
            "only showing top 20 rows\n",
            "\n"
          ]
        }
      ]
    },
    {
      "cell_type": "code",
      "source": [
        "# utilizar sql dentro do pyspark\n",
        "\n",
        "df_score.createOrReplaceTempView('movies')\n",
        "spark.sql('SELECT `Lead Studio`, COUNT(*) AS qtd FROM movies GROUP BY `Lead Studio` ORDER BY qtd DESC').show()\n"
      ],
      "metadata": {
        "colab": {
          "base_uri": "https://localhost:8080/"
        },
        "id": "djYGMsxcL1xt",
        "outputId": "0625f95b-8b6e-4929-9b7e-949caf2b7be0"
      },
      "execution_count": 74,
      "outputs": [
        {
          "output_type": "stream",
          "name": "stdout",
          "text": [
            "+--------------------+---+\n",
            "|         Lead Studio|qtd|\n",
            "+--------------------+---+\n",
            "|         Independent| 19|\n",
            "|        Warner Bros.| 14|\n",
            "|              Disney|  8|\n",
            "|           Universal|  8|\n",
            "|                 Fox|  6|\n",
            "|              Summit|  5|\n",
            "|                Sony|  4|\n",
            "|           Paramount|  4|\n",
            "|The Weinstein Com...|  3|\n",
            "|           Lionsgate|  2|\n",
            "|    20th Century Fox|  2|\n",
            "|            New Line|  1|\n",
            "|                 CBS|  1|\n",
            "+--------------------+---+\n",
            "\n"
          ]
        }
      ]
    },
    {
      "cell_type": "code",
      "source": [
        "# criar df reviews\n",
        "df_reviews = spark.read.csv('reviews-2.csv', header=True, inferSchema=True, sep=';')\n",
        "df_reviews.show()\n"
      ],
      "metadata": {
        "colab": {
          "base_uri": "https://localhost:8080/"
        },
        "id": "g3IeoxsAMWoA",
        "outputId": "99a75f2e-5155-41d5-d8de-40783e80e7f9"
      },
      "execution_count": 79,
      "outputs": [
        {
          "output_type": "stream",
          "name": "stdout",
          "text": [
            "+--------------------+---------+--------------------+\n",
            "|                Film|       ID|              Review|\n",
            "+--------------------+---------+--------------------+\n",
            "|Zack and Miri Mak...|100000000|Three start. I ha...|\n",
            "|     Youth in Revolt|100000001|Heating and not w...|\n",
            "|You Will Meet a T...|100000002|2nd hand laptops!...|\n",
            "|        When in Rome|100000003|Review: BEST LAPT...|\n",
            "|What Happens in V...|100000004|Review: second ha...|\n",
            "| Water For Elephants|100000005|Review: very bad....|\n",
            "|              WALL-E|100000006|Review: waste of ...|\n",
            "|            Waitress|100000007|Review: Very bad ...|\n",
            "| Waiting For Forever|100000008|Review: One star....|\n",
            "|     Valentine's Day|100000009|Review: two star....|\n",
            "|Tyler Perry's Why...|100000010|Review: Three sta...|\n",
            "|Twilight: Breakin...|100000011|Review: Bad produ...|\n",
            "|            Twilight|100000012|Review: not a goo...|\n",
            "|      The Ugly Truth|100000013|Review: better la...|\n",
            "|The Twilight Saga...|100000014|Review:  have had...|\n",
            "|The Time Traveler...|100000015|Review: Worst dis...|\n",
            "|        The Proposal|100000016|Review: It’s been...|\n",
            "|The Invention of ...|100000017|Review: Very bad ...|\n",
            "|  The Heartbreak Kid|100000018|Review: Fake Prod...|\n",
            "|         The Duchess|100000019|Review: Pathetic ...|\n",
            "+--------------------+---------+--------------------+\n",
            "only showing top 20 rows\n",
            "\n"
          ]
        }
      ]
    },
    {
      "cell_type": "code",
      "source": [
        "# inner join\n",
        "df.join(df_reviews, df.Film == df_reviews.Film, 'inner')\\\n",
        "        .select(df['Lead Studio'], df.Film, df.Genre, df.Year, df_reviews.Review)\\\n",
        "        .show(truncate=False)"
      ],
      "metadata": {
        "colab": {
          "base_uri": "https://localhost:8080/"
        },
        "id": "eCAercV0PZKu",
        "outputId": "57659545-ed80-4e7b-8c50-420c9c0015c9"
      },
      "execution_count": 81,
      "outputs": [
        {
          "output_type": "stream",
          "name": "stdout",
          "text": [
            "+---------------------+-----------------------------------+---------+----+---------------------------------------------------------------------------------------------------------------------------------------------------------------------------------+\n",
            "|Lead Studio          |Film                               |Genre    |Year|Review                                                                                                                                                                           |\n",
            "+---------------------+-----------------------------------+---------+----+---------------------------------------------------------------------------------------------------------------------------------------------------------------------------------+\n",
            "|The Weinstein Company|Zack and Miri Make a Porno         |Romance  |2008|Three start. I have some issues like some keys don't work on first instance..and is somewhat slow also                                                                           |\n",
            "|The Weinstein Company|Youth in Revolt                    |Comedy   |2010|Heating and not wake up. Check twice when buy it on Offer.                                                                                                                       |\n",
            "|Independent          |You Will Meet a Tall Dark Stranger |Comedy   |2010|2nd hand laptops!!! The laptop I received already had an user on it with password etc. These are not new laptops!                                                                |\n",
            "|Disney               |When in Rome                       |Comedy   |2010|Review: BEST LAPTOP IN A PRICE SEGMENT OF Rs 55-60K.                                                                                                                             |\n",
            "|Fox                  |What Happens in Vegas              |Comedy   |2008|Review: second hand product. don't buy this. It is used. battery power is low. stand by power is only 4 hour.                                                                    |\n",
            "|20th Century Fox     |Water For Elephants                |Drama    |2011|Review: very bad. My product is not working what do I do ? I have paid everything! This is very very bad .                                                                       |\n",
            "|Disney               |WALL-E                             |Animation|2008|Review: waste of money. Battery is draining out very quickly after 2-3 hours of usage. Also it's not lasting for more than 7 days once it's in a sleep mode.Not at all recommend.|\n",
            "|Independent          |Waitress                           |Romance  |2007|Review: Very bad product. The Serial number on the product and the serial number on the laptop are different.                                                                    |\n",
            "|Independent          |Waiting For Forever                |Romance  |2011|Review: One star. Trackpad not working... tried 2 contact amazon.. not picking                                                                                                   |\n",
            "|Warner Bros.         |Valentine's Day                    |Comedy   |2010|Review: two star.Returned looking for Mac pro.                                                                                                                                   |\n",
            "|Independent          |Tyler Perry's Why Did I get Married|Romance  |2007|Review: Three star. very low memory. Not good buy.                                                                                                                               |\n",
            "|Independent          |Twilight: Breaking Dawn            |Romance  |2011|Review: Bad product. Battery issue with the laptop. Doesn't give backup as expected . Really upset with the product.                                                             |\n",
            "|Summit               |Twilight                           |Romance  |2008|Review: not a good product. charger not working after week use                                                                                                                   |\n",
            "|Independent          |The Ugly Truth                     |Comedy   |2009|Review: better laptop is available in this price segment.                                                                                                                        |\n",
            "|Summit               |The Twilight Saga: New Moon        |Drama    |2009|Review:  have had extremely bad experiences with Apple products. they suffer from a chronic problem which is well known : overheating                                            |\n",
            "|Paramount            |The Time Traveler's Wife           |Drama    |2009|Review: Worst display.. fonts are blurry.. best part is help less amazon care. saying that there is no return policy..                                                           |\n",
            "|Disney               |The Proposal                       |Comedy   |2009|Review: It’s been just 2 months and the device has already stopped functioning. It doesn’t turn on. I need a replacement. ’m very angry and disappointed.                        |\n",
            "|Warner Bros.         |The Invention of Lying             |Comedy   |2009|Review: Very bad product. The mac book delivered is not at all working this is not expected from such a reputed brand .looking for an immediate replacement or return.           |\n",
            "|Paramount            |The Heartbreak Kid                 |Comedy   |2007|Review: Fake Product. received A Laptop Without Serial number of screen. unable To Claim Warranty.                                                                               |\n",
            "|Paramount            |The Duchess                        |Drama    |2008|Review: Pathetic product. Below standard quality.                                                                                                                                |\n",
            "+---------------------+-----------------------------------+---------+----+---------------------------------------------------------------------------------------------------------------------------------------------------------------------------------+\n",
            "only showing top 20 rows\n",
            "\n"
          ]
        }
      ]
    },
    {
      "cell_type": "code",
      "source": [],
      "metadata": {
        "id": "zDkCfKppQVmR"
      },
      "execution_count": null,
      "outputs": []
    }
  ]
}